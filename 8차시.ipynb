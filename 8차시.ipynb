{
  "nbformat": 4,
  "nbformat_minor": 0,
  "metadata": {
    "colab": {
      "provenance": [],
      "authorship_tag": "ABX9TyMOEXDT0tFvzeIpC/439e5A",
      "include_colab_link": true
    },
    "kernelspec": {
      "name": "python3",
      "display_name": "Python 3"
    },
    "language_info": {
      "name": "python"
    }
  },
  "cells": [
    {
      "cell_type": "markdown",
      "metadata": {
        "id": "view-in-github",
        "colab_type": "text"
      },
      "source": [
        "<a href=\"https://colab.research.google.com/github/YouChanJUNG/-Python/blob/main/8%EC%B0%A8%EC%8B%9C.ipynb\" target=\"_parent\"><img src=\"https://colab.research.google.com/assets/colab-badge.svg\" alt=\"Open In Colab\"/></a>"
      ]
    },
    {
      "cell_type": "code",
      "source": [
        "text1 = \"네이스123\"\n",
        "text2 = \"123123\"\n",
        "text3 = \"!@#$\"\n",
        "text4 = \"!@#$1234\"\n",
        "text5 = \"wtf\"\n",
        "text6 = \"wtf123123\"\n",
        "print(text1.isalnum())\n",
        "print(text2.isalnum())\n",
        "print(text3.isalnum())\n",
        "print(text4.isalnum())\n",
        "print(text5.isalnum())\n",
        "print(text6.isalnum())\n"
      ],
      "metadata": {
        "colab": {
          "base_uri": "https://localhost:8080/"
        },
        "id": "PTslhQd_Fltg",
        "outputId": "93dd3eb6-7ce8-422b-8b15-5786ab630379"
      },
      "execution_count": 1,
      "outputs": [
        {
          "output_type": "stream",
          "name": "stdout",
          "text": [
            "True\n",
            "True\n",
            "False\n",
            "False\n",
            "True\n",
            "True\n"
          ]
        }
      ]
    },
    {
      "cell_type": "code",
      "execution_count": 2,
      "metadata": {
        "colab": {
          "base_uri": "https://localhost:8080/"
        },
        "id": "_25GJ-MdFjVV",
        "outputId": "3e3dee1e-4a3d-491a-b5ca-08d2ff7bd2df"
      },
      "outputs": [
        {
          "output_type": "stream",
          "name": "stdout",
          "text": [
            "True\n",
            "False\n",
            "False\n",
            "네이스\n"
          ]
        }
      ],
      "source": [
        "text = \"!#$$!@$!!!!!!!!@$#231421234네123^&^#$#이!#12313_+{스\"\n",
        "text1 = \"네이스\"\n",
        "text2 = \"123123\"\n",
        "text3 = \"!@#$\"\n",
        "check = \"\"\n",
        "print(text1.isalpha())\n",
        "print(text2.isalpha())\n",
        "print(text3.isalpha())\n",
        "for i in text:\n",
        "\tif i.isalpha():\n",
        "\t\tcheck += i\n",
        "print(check)\n"
      ]
    },
    {
      "cell_type": "code",
      "source": [
        "a= \"BlockDMask\" # 문자로만 이루어짐\n",
        "b = \"1234Blog\" # 문자 + 숫자\n",
        "c = \"131231\" # 숫자\n",
        "d = \"-234\" # 음수\n",
        "e = \"1.23\" # 소수점\n",
        "f = \"3²\" # 3의 2제곱 기호 숫자\n",
        "g = \"⅔\" # 수학 기호 숫자 2/3\n",
        "h = \"0\" # 0\n",
        "i = \"0123\"\n",
        "# 0 으로 시작한 숫자\n",
        "# str.isdigit(\"문자열\")\n",
        "print(f\"str.isdigit('{a}') : {str.isdigit(a)}\")\n",
        "print(f\"str.isdigit('{b}') : {str.isdigit(b)}\")\n",
        "print(f\"str.isdigit('{c}') : {str.isdigit(c)}\")\n",
        "print(f\"str.isdigit('{d}') : {str.isdigit(d)}\")\n",
        "print(f\"str.isdigit('{e}') : {str.isdigit(e)}\")\n",
        "print(f\"str.isdigit('{f}') : {str.isdigit(f)}\")\n",
        "print(f\"str.isdigit('{g}') : {str.isdigit(g)}\")\n",
        "print(f\"str.isdigit('{h}') : {str.isdigit(h)}\")\n",
        "print(f\"str.isdigit('{i}') : {str.isdigit(i)}\")\n",
        "print()\n"
      ],
      "metadata": {
        "colab": {
          "base_uri": "https://localhost:8080/"
        },
        "id": "t8T_CRdjF7C5",
        "outputId": "d4f2927a-aaf3-410f-a09f-61538ac3d533"
      },
      "execution_count": 3,
      "outputs": [
        {
          "output_type": "stream",
          "name": "stdout",
          "text": [
            "str.isdigit('BlockDMask') : False\n",
            "str.isdigit('1234Blog') : False\n",
            "str.isdigit('131231') : True\n",
            "str.isdigit('-234') : False\n",
            "str.isdigit('1.23') : False\n",
            "str.isdigit('3²') : True\n",
            "str.isdigit('⅔') : False\n",
            "str.isdigit('0') : True\n",
            "str.isdigit('0123') : True\n",
            "\n"
          ]
        }
      ]
    },
    {
      "cell_type": "code",
      "source": [
        "# \"문자열\".isdigit()\n",
        "print(f\"'{a}'.isdigit() : {a.isdigit()}\")\n",
        "print(f\"'{b}'.isdigit() : {b.isdigit()}\")\n",
        "print(f\"'{c}'.isdigit() : {c.isdigit()}\")\n",
        "print(f\"'{d}'.isdigit() : {d.isdigit()}\")\n",
        "print(f\"'{e}'.isdigit() : {e.isdigit()}\")\n",
        "print(f\"'{f}'.isdigit() : {f.isdigit()}\")\n",
        "print(f\"'{g}'.isdigit() : {g.isdigit()}\")\n",
        "print(f\"'{h}'.isdigit() : {h.isdigit()}\")\n",
        "print(f\"'{i}'.isdigit() : {i.isdigit()}\")\n"
      ],
      "metadata": {
        "colab": {
          "base_uri": "https://localhost:8080/"
        },
        "id": "-ImWdOSHF7FQ",
        "outputId": "5a1fbe32-1863-4a62-f6bd-905716119044"
      },
      "execution_count": 4,
      "outputs": [
        {
          "output_type": "stream",
          "name": "stdout",
          "text": [
            "'BlockDMask'.isdigit() : False\n",
            "'1234Blog'.isdigit() : False\n",
            "'131231'.isdigit() : True\n",
            "'-234'.isdigit() : False\n",
            "'1.23'.isdigit() : False\n",
            "'3²'.isdigit() : True\n",
            "'⅔'.isdigit() : False\n",
            "'0'.isdigit() : True\n",
            "'0123'.isdigit() : True\n"
          ]
        }
      ]
    },
    {
      "cell_type": "code",
      "source": [
        "a = '12345678'\n",
        "print(a.isdigit())\n",
        "print(a.isdecimal())\n",
        "print(a.isnumeric())"
      ],
      "metadata": {
        "colab": {
          "base_uri": "https://localhost:8080/"
        },
        "id": "iyXHuWZ9F7Ho",
        "outputId": "6b9a9af9-7eaa-42f7-e1b9-65151d3abd98"
      },
      "execution_count": 5,
      "outputs": [
        {
          "output_type": "stream",
          "name": "stdout",
          "text": [
            "True\n",
            "True\n",
            "True\n"
          ]
        }
      ]
    },
    {
      "cell_type": "code",
      "source": [
        "x = '3²'\n",
        "print(x.isdigit())\n",
        "# True\n",
        "print(x.isdecimal())\n",
        "# False\n",
        "print(x.isnumeric())\n",
        "int(x)\n",
        "# ERROR!!!!"
      ],
      "metadata": {
        "colab": {
          "base_uri": "https://localhost:8080/",
          "height": 257
        },
        "id": "SbfAeU2TF7Wh",
        "outputId": "18303252-0be8-46a4-a95d-15f91fcff295"
      },
      "execution_count": 6,
      "outputs": [
        {
          "output_type": "stream",
          "name": "stdout",
          "text": [
            "True\n",
            "False\n",
            "True\n"
          ]
        },
        {
          "output_type": "error",
          "ename": "ValueError",
          "evalue": "invalid literal for int() with base 10: '3²'",
          "traceback": [
            "\u001b[0;31m---------------------------------------------------------------------------\u001b[0m",
            "\u001b[0;31mValueError\u001b[0m                                Traceback (most recent call last)",
            "\u001b[0;32m<ipython-input-6-72cad212c54b>\u001b[0m in \u001b[0;36m<cell line: 7>\u001b[0;34m()\u001b[0m\n\u001b[1;32m      5\u001b[0m \u001b[0;31m# False\u001b[0m\u001b[0;34m\u001b[0m\u001b[0;34m\u001b[0m\u001b[0m\n\u001b[1;32m      6\u001b[0m \u001b[0mprint\u001b[0m\u001b[0;34m(\u001b[0m\u001b[0mx\u001b[0m\u001b[0;34m.\u001b[0m\u001b[0misnumeric\u001b[0m\u001b[0;34m(\u001b[0m\u001b[0;34m)\u001b[0m\u001b[0;34m)\u001b[0m\u001b[0;34m\u001b[0m\u001b[0;34m\u001b[0m\u001b[0m\n\u001b[0;32m----> 7\u001b[0;31m \u001b[0mint\u001b[0m\u001b[0;34m(\u001b[0m\u001b[0mx\u001b[0m\u001b[0;34m)\u001b[0m\u001b[0;34m\u001b[0m\u001b[0;34m\u001b[0m\u001b[0m\n\u001b[0m\u001b[1;32m      8\u001b[0m \u001b[0;31m# ERROR!!!!\u001b[0m\u001b[0;34m\u001b[0m\u001b[0;34m\u001b[0m\u001b[0m\n",
            "\u001b[0;31mValueError\u001b[0m: invalid literal for int() with base 10: '3²'"
          ]
        }
      ]
    },
    {
      "cell_type": "code",
      "source": [
        "a = \"I Love Python\"\n",
        "\n",
        "print( a.islower() )\n",
        "print( a.isupper() )\n",
        "print( a.upper() )\n",
        "print( a.lower() )\n"
      ],
      "metadata": {
        "colab": {
          "base_uri": "https://localhost:8080/"
        },
        "id": "_FeDtB7QF7t4",
        "outputId": "1dbc00f7-37fc-41a7-a5bf-6e74f8150365"
      },
      "execution_count": 7,
      "outputs": [
        {
          "output_type": "stream",
          "name": "stdout",
          "text": [
            "False\n",
            "False\n",
            "I LOVE PYTHON\n",
            "i love python\n"
          ]
        }
      ]
    },
    {
      "cell_type": "code",
      "source": [
        "str = \"THIS is string example....wow!!!\"\n",
        "print(str.islower())\n",
        "\n",
        "str = \"this is string example....wow!!!\"\n",
        "print (str.islower())\n"
      ],
      "metadata": {
        "colab": {
          "base_uri": "https://localhost:8080/"
        },
        "id": "JZ1LRfryHTIA",
        "outputId": "87ab7778-816e-40dd-810a-28352802552e"
      },
      "execution_count": 8,
      "outputs": [
        {
          "output_type": "stream",
          "name": "stdout",
          "text": [
            "False\n",
            "True\n"
          ]
        }
      ]
    },
    {
      "cell_type": "code",
      "source": [
        "str = \"this is string example....wow!!!\"\n",
        "print(str.swapcase() )\n",
        "\n",
        "str = \"THIS IS STRING EXAMPLE....WOW!!!\"\n",
        "print( str.swapcase())\n"
      ],
      "metadata": {
        "colab": {
          "base_uri": "https://localhost:8080/"
        },
        "id": "iHf2AIHUHTKH",
        "outputId": "61f1beef-b84e-4e34-8fa9-35d6e786f7e0"
      },
      "execution_count": 9,
      "outputs": [
        {
          "output_type": "stream",
          "name": "stdout",
          "text": [
            "THIS IS STRING EXAMPLE....WOW!!!\n",
            "this is string example....wow!!!\n"
          ]
        }
      ]
    },
    {
      "cell_type": "code",
      "source": [
        "str = \"This Is String Example...Wow!!!\"\n",
        "print( str.istitle() )\n",
        "\n",
        "str = \"This is string example....wow!!!\"\n",
        "print( str.istitle() )\n"
      ],
      "metadata": {
        "colab": {
          "base_uri": "https://localhost:8080/"
        },
        "id": "oUs76HoJHTMm",
        "outputId": "9eed4649-65ca-4adb-871a-929bd2504ad5"
      },
      "execution_count": 10,
      "outputs": [
        {
          "output_type": "stream",
          "name": "stdout",
          "text": [
            "True\n",
            "False\n"
          ]
        }
      ]
    },
    {
      "cell_type": "code",
      "source": [
        "str = \"This is string example....wow!!!\"\n",
        "print( str.title() )\n"
      ],
      "metadata": {
        "colab": {
          "base_uri": "https://localhost:8080/"
        },
        "id": "Qy8SrDb_H8k8",
        "outputId": "f70d0178-e2d5-4805-cf9f-c5b0d7e850ef"
      },
      "execution_count": 11,
      "outputs": [
        {
          "output_type": "stream",
          "name": "stdout",
          "text": [
            "This Is String Example....Wow!!!\n"
          ]
        }
      ]
    },
    {
      "cell_type": "code",
      "source": [
        "print ( 'hello world!'.capitalize() ) # Hello world!\n",
        "print ( 'HELLO WORLD!'.capitalize() ) # Hello world!\n"
      ],
      "metadata": {
        "colab": {
          "base_uri": "https://localhost:8080/"
        },
        "id": "mBN37n6nHT6W",
        "outputId": "0048a0b4-e97f-4637-b2c2-f66e0b03d306"
      },
      "execution_count": 12,
      "outputs": [
        {
          "output_type": "stream",
          "name": "stdout",
          "text": [
            "Hello world!\n",
            "Hello world!\n"
          ]
        }
      ]
    }
  ]
}