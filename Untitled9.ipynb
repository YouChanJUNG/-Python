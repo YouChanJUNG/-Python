{
  "nbformat": 4,
  "nbformat_minor": 0,
  "metadata": {
    "colab": {
      "provenance": [],
      "authorship_tag": "ABX9TyMAO3N5iIi/za4gLYmIhJow",
      "include_colab_link": true
    },
    "kernelspec": {
      "name": "python3",
      "display_name": "Python 3"
    },
    "language_info": {
      "name": "python"
    }
  },
  "cells": [
    {
      "cell_type": "markdown",
      "metadata": {
        "id": "view-in-github",
        "colab_type": "text"
      },
      "source": [
        "<a href=\"https://colab.research.google.com/github/YouChanJUNG/-Python/blob/main/Untitled9.ipynb\" target=\"_parent\"><img src=\"https://colab.research.google.com/assets/colab-badge.svg\" alt=\"Open In Colab\"/></a>"
      ]
    },
    {
      "cell_type": "code",
      "execution_count": 3,
      "metadata": {
        "colab": {
          "base_uri": "https://localhost:8080/"
        },
        "id": "rnBVQbjC3qYT",
        "outputId": "b50f641c-412c-4d6f-cdad-99375dd244d9"
      },
      "outputs": [
        {
          "output_type": "stream",
          "name": "stdout",
          "text": [
            "Hello\n",
            "hello everyone\n",
            "helloeveryone\n"
          ]
        }
      ],
      "source": [
        "print(\"Hello\")\n",
        "print('hello','everyone')\n",
        "print('hello'+'everyone')"
      ]
    },
    {
      "cell_type": "code",
      "source": [
        " print('hello', end='')\n",
        " print('test')"
      ],
      "metadata": {
        "colab": {
          "base_uri": "https://localhost:8080/"
        },
        "id": "RLH8EMEB5PAT",
        "outputId": "92155bb7-a908-400e-95c0-2a59a9f06bbe"
      },
      "execution_count": 6,
      "outputs": [
        {
          "output_type": "stream",
          "name": "stdout",
          "text": [
            "hellotest\n"
          ]
        }
      ]
    },
    {
      "cell_type": "code",
      "source": [
        "a = 123\n",
        "b = 'hello'\n",
        "print(a, b)\n",
        "print(a, 456, b, 'world')"
      ],
      "metadata": {
        "colab": {
          "base_uri": "https://localhost:8080/"
        },
        "id": "WAZHY6xP54mB",
        "outputId": "f9fdd7bd-8ad1-4dae-f30d-79215d6f5b6e"
      },
      "execution_count": 5,
      "outputs": [
        {
          "output_type": "stream",
          "name": "stdout",
          "text": [
            "123 hello\n",
            "123 456 hello world\n"
          ]
        }
      ]
    },
    {
      "cell_type": "code",
      "source": [
        "print('Hello \"Python\"')\n",
        "print(\"Hello 'Python'\")\n",
        "print('Hello','Python!')\n",
        "print('Hello'+'Python!')"
      ],
      "metadata": {
        "colab": {
          "base_uri": "https://localhost:8080/"
        },
        "id": "iboqRbC96XOe",
        "outputId": "749d8aaf-94f7-43fb-b300-10671409f0a5"
      },
      "execution_count": 7,
      "outputs": [
        {
          "output_type": "stream",
          "name": "stdout",
          "text": [
            "Hello \"Python\"\n",
            "Hello 'Python'\n",
            "Hello Python!\n",
            "HelloPython!\n"
          ]
        }
      ]
    },
    {
      "cell_type": "code",
      "source": [
        "print(\"화면에 직접 출력\")\n",
        "print('ab\\'c')\n",
        "print(\"ab'c\")\n",
        "print(\"doesn't\")\n",
        "print('does')\n",
        "print('doesn\\'t')\n",
        "print(\"'string'\")\n",
        "print(\"\\\"string\\\"\")\n",
        "print('\"string\"')"
      ],
      "metadata": {
        "colab": {
          "base_uri": "https://localhost:8080/"
        },
        "id": "r8auHm6U7nga",
        "outputId": "5e520c95-0563-4ca8-a4ac-6bdc768b2bde"
      },
      "execution_count": 13,
      "outputs": [
        {
          "output_type": "stream",
          "name": "stdout",
          "text": [
            "화면에 직접 출력\n",
            "ab'c\n",
            "ab'c\n",
            "doesn't\n",
            "does\n",
            "doesn't\n",
            "'string'\n",
            "\"string\"\n",
            "\"string\"\n"
          ]
        }
      ]
    },
    {
      "cell_type": "code",
      "source": [
        "s1 = '화면에 직접 출력'\n",
        "s2 = 'ab\\'c'\n",
        "s3 = 'does'\n",
        "print(s1)\n",
        "print(s2)\n",
        "print(s3)\n",
        "print(s1[0]) # 첫 글자\n",
        "print(s2[1]) # 두 번째 글자\n",
        "print(s3[1:3])\n",
        "print(s3[-1]) # 마지막 글자\n",
        "print(s3[-2]) # 뒤에서 두 번째"
      ],
      "metadata": {
        "id": "xuatNm6v-JNR",
        "outputId": "0c033ccb-da58-4336-addb-3c6ba798538a",
        "colab": {
          "base_uri": "https://localhost:8080/"
        }
      },
      "execution_count": 16,
      "outputs": [
        {
          "output_type": "stream",
          "name": "stdout",
          "text": [
            "화면에 직접 출력\n",
            "ab'c\n",
            "does\n",
            "화\n",
            "b\n",
            "does\n",
            "s\n",
            "e\n"
          ]
        }
      ]
    },
    {
      "cell_type": "code",
      "source": [
        "a = 2\n",
        "b = 3.14\n",
        "c = a+b\n",
        "print(a)\n",
        "print(b)\n",
        "print(c)\n",
        "print(round(c,2))\n",
        "print(\"%.2f\"%(c))\n",
        "print(a+b)\n",
        "print(a,b,a+b,c)\n",
        "d = 1e2\n",
        "e = 1e-2\n",
        "print(d)\n",
        "print(e)"
      ],
      "metadata": {
        "id": "rIBoC-nuANAp",
        "outputId": "911ac6b4-d6db-4d16-913e-0d5514025fdf",
        "colab": {
          "base_uri": "https://localhost:8080/"
        }
      },
      "execution_count": 17,
      "outputs": [
        {
          "output_type": "stream",
          "name": "stdout",
          "text": [
            "2\n",
            "3.14\n",
            "5.140000000000001\n",
            "5.14\n",
            "5.14\n",
            "5.140000000000001\n",
            "2 3.14 5.140000000000001 5.140000000000001\n",
            "100.0\n",
            "0.01\n"
          ]
        }
      ]
    },
    {
      "cell_type": "code",
      "source": [
        "item1 = '사과'\n",
        "price1 = 1000\n",
        "item2 = '바나나'\n",
        "price2 = 500\n",
        "print(item1, price1)\n",
        "print(item2, price2)"
      ],
      "metadata": {
        "id": "PULvW4tIDZYG",
        "outputId": "972a169f-be58-4a26-eff9-2b5785065ad3",
        "colab": {
          "base_uri": "https://localhost:8080/"
        }
      },
      "execution_count": 18,
      "outputs": [
        {
          "output_type": "stream",
          "name": "stdout",
          "text": [
            "사과 1000\n",
            "바나나 500\n"
          ]
        }
      ]
    },
    {
      "cell_type": "code",
      "source": [
        "item1 = '사과'\n",
        "price1 = 1000\n",
        "item2 = '바나나'\n",
        "price2 = 500\n",
        "str1 = '{0}는 {1}원입니다.'\n",
        "print(str1.format(item1, price1))\n",
        "print(str1.format(item2, price2))"
      ],
      "metadata": {
        "id": "ZPJR4jfyFcxN",
        "outputId": "920e60d5-51ae-4538-9d6e-b95068a33dff",
        "colab": {
          "base_uri": "https://localhost:8080/"
        }
      },
      "execution_count": 19,
      "outputs": [
        {
          "output_type": "stream",
          "name": "stdout",
          "text": [
            "사과는 1000원입니다.\n",
            "바나나는 500원입니다.\n"
          ]
        }
      ]
    },
    {
      "cell_type": "code",
      "source": [
        "item1 = '사과'\n",
        "price1 = 1000\n",
        "item2 = '바나나'\n",
        "price2 = 500\n",
        "print(item1, price1, sep='*', end='/')\n",
        "print(item2, price2)"
      ],
      "metadata": {
        "id": "Bo8K1UIfHHyq",
        "outputId": "806e69e8-6e5b-4c34-dbd2-aa5c56f76cbe",
        "colab": {
          "base_uri": "https://localhost:8080/"
        }
      },
      "execution_count": 23,
      "outputs": [
        {
          "output_type": "stream",
          "name": "stdout",
          "text": [
            "사과*1000/바나나 500\n"
          ]
        }
      ]
    },
    {
      "cell_type": "code",
      "source": [
        "item1 = '사과'\n",
        "price1 = 1000\n",
        "item2 = '바나나'\n",
        "price2 = 500\n",
        "str2 = '%s는 %d원입니다.'\n",
        "print(str2%(item1, price1))\n",
        "print(str2%(item2, price2))"
      ],
      "metadata": {
        "id": "L41T9EEzH1s1",
        "outputId": "858ccae0-bcb2-4b51-dad4-5228fc5c2b7a",
        "colab": {
          "base_uri": "https://localhost:8080/"
        }
      },
      "execution_count": 25,
      "outputs": [
        {
          "output_type": "stream",
          "name": "stdout",
          "text": [
            "사과는 1000원입니다.\n",
            "바나나는 500원입니다.\n"
          ]
        }
      ]
    }
  ]
}