{
  "nbformat": 4,
  "nbformat_minor": 0,
  "metadata": {
    "colab": {
      "provenance": [],
      "authorship_tag": "ABX9TyNs8sA00TxPWP32kZNlhhvN",
      "include_colab_link": true
    },
    "kernelspec": {
      "name": "python3",
      "display_name": "Python 3"
    },
    "language_info": {
      "name": "python"
    }
  },
  "cells": [
    {
      "cell_type": "markdown",
      "metadata": {
        "id": "view-in-github",
        "colab_type": "text"
      },
      "source": [
        "<a href=\"https://colab.research.google.com/github/YouChanJUNG/-Python/blob/main/9%EC%B0%A8%EC%8B%9C.ipynb\" target=\"_parent\"><img src=\"https://colab.research.google.com/assets/colab-badge.svg\" alt=\"Open In Colab\"/></a>"
      ]
    },
    {
      "cell_type": "code",
      "execution_count": 2,
      "metadata": {
        "colab": {
          "base_uri": "https://localhost:8080/"
        },
        "id": "gzEUgLpLucfc",
        "outputId": "fcbf09b5-448a-4dc4-87e2-fb6e7e305cb7"
      },
      "outputs": [
        {
          "output_type": "stream",
          "name": "stdout",
          "text": [
            "test  !   \n",
            ".test.~~\n",
            "test!\n"
          ]
        }
      ],
      "source": [
        "a= '   test  !   '\n",
        "b= '~~.test.~~'\n",
        "c= '~test!'\n",
        "print( a.lstrip())\n",
        "print( b.lstrip('~'))\n",
        "print( c.lstrip('~!'))"
      ]
    },
    {
      "cell_type": "code",
      "source": [
        "a= '   test  !   '\n",
        "b= '~~.test.~~'\n",
        "c= '~test!'\n",
        "print( a.rstrip())\n",
        "print( b.rstrip('~'))\n",
        "print( c.rstrip('~!'))"
      ],
      "metadata": {
        "colab": {
          "base_uri": "https://localhost:8080/"
        },
        "id": "2Q0AXPKxuf93",
        "outputId": "38b620ab-0b46-40b0-8b1b-34aeeb601bf4"
      },
      "execution_count": 3,
      "outputs": [
        {
          "output_type": "stream",
          "name": "stdout",
          "text": [
            "   test  !\n",
            "~~.test.\n",
            "~test\n"
          ]
        }
      ]
    },
    {
      "cell_type": "code",
      "source": [
        "a= '   test  !   '\n",
        "b= '~~.test.~~'\n",
        "c= '~test!'\n",
        "print( a.lstrip())\n",
        "print( b.lstrip('~'))\n",
        "print( c.lstrip('~!'))\n",
        "\n",
        "text = ' water boils at 100 degrees '\n",
        "print('[' + text.rstrip() + ']')\n",
        "print('[' + text.lstrip() + ']')\n",
        "print('[' + text.strip() + ']')"
      ],
      "metadata": {
        "colab": {
          "base_uri": "https://localhost:8080/"
        },
        "id": "e5JA_MkWugB2",
        "outputId": "9c29438b-8a3b-43f7-c928-01a0e102829e"
      },
      "execution_count": 4,
      "outputs": [
        {
          "output_type": "stream",
          "name": "stdout",
          "text": [
            "test  !   \n",
            ".test.~~\n",
            "test!\n",
            "[ water boils at 100 degrees]\n",
            "[water boils at 100 degrees ]\n",
            "[water boils at 100 degrees]\n"
          ]
        }
      ]
    },
    {
      "cell_type": "code",
      "source": [
        "text = '0000000Water boils at 100 degrees 000'\n",
        "print(text.lstrip('0'))\n",
        "print(text.rstrip('0'))\n",
        "print(text.strip('0'))\n",
        "\n",
        "text = \",,,,,123.....water....pp\"\n",
        "print(text.lstrip(',123.p'))\n",
        "print(text.rstrip(',123.p'))\n",
        "print(text.strip(',123.p'))\n",
        "\n",
        "text = ' Water boils at 100 degrees '\n",
        "print(text.lstrip(' Water'))\n",
        "print(text.rstrip(' degrees '))\n",
        "print(text.strip(' degrees '))"
      ],
      "metadata": {
        "colab": {
          "base_uri": "https://localhost:8080/"
        },
        "id": "wjs26SPDugDm",
        "outputId": "14842e66-d10b-4453-dffc-35ffe2697594"
      },
      "execution_count": 5,
      "outputs": [
        {
          "output_type": "stream",
          "name": "stdout",
          "text": [
            "Water boils at 100 degrees 000\n",
            "0000000Water boils at 100 degrees \n",
            "Water boils at 100 degrees \n",
            "water....pp\n",
            ",,,,,123.....water\n",
            "water\n",
            "boils at 100 degrees \n",
            " Water boils at 100\n",
            "Water boils at 100\n"
          ]
        }
      ]
    },
    {
      "cell_type": "code",
      "source": [
        "txt = \" Hz \"\n",
        "x=txt.isspace()\n",
        "print(x)\n",
        "\n",
        "sentence = input(\"문자열을 입력하시오: \")\n",
        "table = { \"알파벳\" : 0, \"숫자\" : 0, \"빈칸\" : 0}\n",
        "\n",
        "for i in sentence :\n",
        "    if (i.isalpha()):\n",
        "        table[\"알파벳\"] +=1\n",
        "    elif (i.isdigit()):\n",
        "        table[\"숫자\"] +=1\n",
        "    elif (i.isspace()):\n",
        "        table[\"빈칸\"] +=1\n",
        "print(table)"
      ],
      "metadata": {
        "colab": {
          "base_uri": "https://localhost:8080/"
        },
        "id": "zL4lLcWdugF3",
        "outputId": "209fdc4d-274d-41e0-c3cb-576f2b267169"
      },
      "execution_count": 6,
      "outputs": [
        {
          "output_type": "stream",
          "name": "stdout",
          "text": [
            "False\n",
            "문자열을 입력하시오: 알파벳\n",
            "{'알파벳': 3, '숫자': 0, '빈칸': 0}\n"
          ]
        }
      ]
    },
    {
      "cell_type": "code",
      "source": [
        "### 우측 정렬 예\n",
        "s ='가나다라'\n",
        "n=7\n",
        "\n",
        "answer =''\n",
        "for i in range(n-len(s)):   # 문자열의 앞을 빈 문자열로 채우는 for 문\n",
        "    answer += ' '\n",
        "answer += s"
      ],
      "metadata": {
        "id": "cPcBc-PMugIG"
      },
      "execution_count": 19,
      "outputs": []
    },
    {
      "cell_type": "code",
      "source": [
        "s = '가나다라'\n",
        "n = 20\n",
        "\n",
        "print(s.ljust(n)) # 좌측 정렬\n",
        "\n",
        "print(s.center(n)) # 가운데 정렬\n",
        "\n",
        "print(s.rjust(n)) # 우측 정렬"
      ],
      "metadata": {
        "colab": {
          "base_uri": "https://localhost:8080/"
        },
        "id": "62oKCkKnugJ2",
        "outputId": "4f7b5eb1-d40c-45f5-9386-caf3c5e6fc23"
      },
      "execution_count": 8,
      "outputs": [
        {
          "output_type": "stream",
          "name": "stdout",
          "text": [
            "가나다라                \n",
            "        가나다라        \n",
            "                가나다라\n"
          ]
        }
      ]
    },
    {
      "cell_type": "code",
      "source": [
        "s =\"a b c d e f g\"\n",
        "print(f's          :{s}')\n",
        "\n",
        "r = s.split()\n",
        "print(f's.split() : {r}')\n",
        "\n",
        "s= \"aa,bb,cc,dd,ee,ff,gg\"\n",
        "print(f's               ; {s}')\n",
        "\n",
        "r0 = s.split()\n",
        "r1 = s.split('.')\n",
        "r2 = s.split(sep='.')\n",
        "print(f\"s.split()          : {r0}\")\n",
        "print(f\"s.split('.')          : {r1}\")\n",
        "print(f\"s.split(sep='.')          : {r2}\")"
      ],
      "metadata": {
        "colab": {
          "base_uri": "https://localhost:8080/"
        },
        "id": "fJeCeVm7ugLW",
        "outputId": "52b46c39-2985-4c3c-ab31-e4d467ceef3e"
      },
      "execution_count": 12,
      "outputs": [
        {
          "output_type": "stream",
          "name": "stdout",
          "text": [
            "s          :a b c d e f g\n",
            "s.split() : ['a', 'b', 'c', 'd', 'e', 'f', 'g']\n",
            "s               ; aa,bb,cc,dd,ee,ff,gg\n",
            "s.split()          : ['aa,bb,cc,dd,ee,ff,gg']\n",
            "s.split('.')          : ['aa,bb,cc,dd,ee,ff,gg']\n",
            "s.split(sep='.')          : ['aa,bb,cc,dd,ee,ff,gg']\n"
          ]
        }
      ]
    },
    {
      "cell_type": "code",
      "source": [
        "s =\"aa.bb.cc.BlockDMask.ee.ff.gg.python.example\"\n",
        "print(f'{s}')\n",
        "\n",
        "r0 = s.split()\n",
        "r1 = s.split('.', 3)\n",
        "r2 = s.split(sep='.', maxsplit=4)\n",
        "r3 = s.split('.',maxsplit=3)\n",
        "print(f\"\\ns.split()\\n{r0}\")\n",
        "print(f\"\\ns.split('.', 4)\\n{r1}\")\n",
        "print(f\"\\ns.split(sep='.', maxsplit=3)\\n{r2}\")\n",
        "print(f\"\\ns.split('.', maxsplit=3)\\n{r3}\")"
      ],
      "metadata": {
        "colab": {
          "base_uri": "https://localhost:8080/"
        },
        "id": "nFWnFnNqugNe",
        "outputId": "b28d01e8-41ea-4b4c-bb08-fd1b923f8445"
      },
      "execution_count": 13,
      "outputs": [
        {
          "output_type": "stream",
          "name": "stdout",
          "text": [
            "aa.bb.cc.BlockDMask.ee.ff.gg.python.example\n",
            "\n",
            "s.split()\n",
            "['aa.bb.cc.BlockDMask.ee.ff.gg.python.example']\n",
            "\n",
            "s.split('.', 4)\n",
            "['aa', 'bb', 'cc', 'BlockDMask.ee.ff.gg.python.example']\n",
            "\n",
            "s.split(sep='.', maxsplit=3)\n",
            "['aa', 'bb', 'cc', 'BlockDMask', 'ee.ff.gg.python.example']\n",
            "\n",
            "s.split('.', maxsplit=3)\n",
            "['aa', 'bb', 'cc', 'BlockDMask.ee.ff.gg.python.example']\n"
          ]
        }
      ]
    },
    {
      "cell_type": "code",
      "source": [
        "txt = \"홈짱닷컴\\nHomzzang.com\"\n",
        "\n",
        "x = txt.splitlines()\n",
        "\n",
        "print(x)\n",
        "\n",
        "g = 'Milk\\nChicken\\r\\nBread\\rButter'\n",
        "\n",
        "print(g.splitlines())\n",
        "print(g.splitlines(True))\n",
        "\n",
        "g = 'Milk Chicken Bread Butter'\n",
        "print(g.splitlines())"
      ],
      "metadata": {
        "colab": {
          "base_uri": "https://localhost:8080/"
        },
        "id": "-JxvEjeaugPO",
        "outputId": "1028c1c5-93d4-41de-fd8b-daeed79bbed3"
      },
      "execution_count": 14,
      "outputs": [
        {
          "output_type": "stream",
          "name": "stdout",
          "text": [
            "['홈짱닷컴', 'Homzzang.com']\n",
            "['Milk', 'Chicken', 'Bread', 'Butter']\n",
            "['Milk\\n', 'Chicken\\r\\n', 'Bread\\r', 'Butter']\n",
            "['Milk Chicken Bread Butter']\n"
          ]
        }
      ]
    },
    {
      "cell_type": "code",
      "source": [
        "text = '123,456,789,999'\n",
        "\n",
        "replaceAll= text.replace(\",\",\"!\")\n",
        "replace_t1= text.replace(\",\",\"!\",1)\n",
        "replace_t2= text.replace(\",\",\"!\",2)\n",
        "replace_t3= text.replace(\",\",\"1\",3)\n",
        "print(\"결과 :\")\n",
        "print(replaceAll)\n",
        "print(replace_t1)\n",
        "print(replace_t2)\n",
        "print(replace_t3)"
      ],
      "metadata": {
        "colab": {
          "base_uri": "https://localhost:8080/"
        },
        "id": "g79eh0P4ugUe",
        "outputId": "359406f2-b2f7-4122-b0cd-39f5c3467ce9"
      },
      "execution_count": 15,
      "outputs": [
        {
          "output_type": "stream",
          "name": "stdout",
          "text": [
            "결과 :\n",
            "123!456!789!999\n",
            "123!456,789,999\n",
            "123!456!789,999\n",
            "123145617891999\n"
          ]
        }
      ]
    },
    {
      "cell_type": "code",
      "source": [
        "a = ['a', 'b', 'c', 'd', '1', '2', '3']\n",
        "print(a)\n",
        "print()\n",
        "\n",
        "result1 = \"\".join(a)\n",
        "print(result1)\n",
        "\n",
        "\n",
        "result2 = ''\n",
        "for v in a:\n",
        "    result2 += v\n",
        "\n",
        "print(result2)"
      ],
      "metadata": {
        "colab": {
          "base_uri": "https://localhost:8080/"
        },
        "id": "oPOVrWqbugWO",
        "outputId": "8b74f84a-6b22-4272-b8c7-f2aea98b4110"
      },
      "execution_count": 16,
      "outputs": [
        {
          "output_type": "stream",
          "name": "stdout",
          "text": [
            "['a', 'b', 'c', 'd', '1', '2', '3']\n",
            "\n",
            "abcd123\n",
            "abcd123\n"
          ]
        }
      ]
    },
    {
      "cell_type": "code",
      "source": [
        "print( \"3\".zfill(3) )\n",
        "\n",
        "print( \"s\".zfill(4) )\n",
        "\n",
        "\n",
        "for x in range(3):\n",
        "    print( str(x).zfill(4) )\n",
        "\n",
        "\n",
        "str = '1234'\n",
        "str_zero = str.zfill(8)\n",
        "print(str_zero)"
      ],
      "metadata": {
        "colab": {
          "base_uri": "https://localhost:8080/"
        },
        "id": "SMRwUNTeugYG",
        "outputId": "42a2624b-5571-4368-9ead-33a17c1de9e8"
      },
      "execution_count": 17,
      "outputs": [
        {
          "output_type": "stream",
          "name": "stdout",
          "text": [
            "003\n",
            "000s\n",
            "0000\n",
            "0001\n",
            "0002\n",
            "00001234\n"
          ]
        }
      ]
    },
    {
      "cell_type": "code",
      "source": [
        "a=\"abc\"\n",
        "\n",
        "print(a.rjust(10))\n",
        "\n",
        "print(a.rjust(10,'#'))\n",
        "\n",
        "b=\"def\"\n",
        "\n",
        "print(b.ljust(15))\n",
        "\n",
        "print(b.ljust(15, 'k'))"
      ],
      "metadata": {
        "colab": {
          "base_uri": "https://localhost:8080/"
        },
        "id": "GLPBFdx3ugaG",
        "outputId": "b3049489-4dcc-4e21-ea1d-0e8ca56835ac"
      },
      "execution_count": 18,
      "outputs": [
        {
          "output_type": "stream",
          "name": "stdout",
          "text": [
            "       abc\n",
            "#######abc\n",
            "def            \n",
            "defkkkkkkkkkkkk\n"
          ]
        }
      ]
    }
  ]
}